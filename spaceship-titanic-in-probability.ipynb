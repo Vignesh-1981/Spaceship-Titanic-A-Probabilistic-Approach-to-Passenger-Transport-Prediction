{
 "cells": [
  {
   "cell_type": "code",
   "execution_count": 1,
   "id": "7565f26e",
   "metadata": {
    "_cell_guid": "b1076dfc-b9ad-4769-8c92-a6c4dae69d19",
    "_uuid": "8f2839f25d086af736a60e9eeb907d3b93b6e0e5",
    "execution": {
     "iopub.execute_input": "2025-07-04T07:16:06.345669Z",
     "iopub.status.busy": "2025-07-04T07:16:06.345426Z",
     "iopub.status.idle": "2025-07-04T07:16:07.746982Z",
     "shell.execute_reply": "2025-07-04T07:16:07.746187Z"
    },
    "papermill": {
     "duration": 1.406829,
     "end_time": "2025-07-04T07:16:07.748350",
     "exception": false,
     "start_time": "2025-07-04T07:16:06.341521",
     "status": "completed"
    },
    "tags": []
   },
   "outputs": [
    {
     "name": "stdout",
     "output_type": "stream",
     "text": [
      "/kaggle/input/spaceship-titanic-in-all-probability/sample_submission.csv\n",
      "/kaggle/input/spaceship-titanic-in-all-probability/train.csv\n",
      "/kaggle/input/spaceship-titanic-in-all-probability/test.csv\n"
     ]
    }
   ],
   "source": [
    "# This Python 3 environment comes with many helpful analytics libraries installed\n",
    "# It is defined by the kaggle/python Docker image: https://github.com/kaggle/docker-python\n",
    "# For example, here's several helpful packages to load\n",
    "\n",
    "import numpy as np # linear algebra\n",
    "import pandas as pd # data processing, CSV file I/O (e.g. pd.read_csv)\n",
    "\n",
    "# Input data files are available in the read-only \"../input/\" directory\n",
    "# For example, running this (by clicking run or pressing Shift+Enter) will list all files under the input directory\n",
    "\n",
    "import os\n",
    "for dirname, _, filenames in os.walk('/kaggle/input'):\n",
    "    for filename in filenames:\n",
    "        print(os.path.join(dirname, filename))\n",
    "\n",
    "# You can write up to 20GB to the current directory (/kaggle/working/) that gets preserved as output when you create a version using \"Save & Run All\" \n",
    "# You can also write temporary files to /kaggle/temp/, but they won't be saved outside of the current session"
   ]
  },
  {
   "cell_type": "code",
   "execution_count": 2,
   "id": "814c161e",
   "metadata": {
    "execution": {
     "iopub.execute_input": "2025-07-04T07:16:07.754465Z",
     "iopub.status.busy": "2025-07-04T07:16:07.754166Z",
     "iopub.status.idle": "2025-07-04T07:16:09.317357Z",
     "shell.execute_reply": "2025-07-04T07:16:09.316776Z"
    },
    "papermill": {
     "duration": 1.567443,
     "end_time": "2025-07-04T07:16:09.318726",
     "exception": false,
     "start_time": "2025-07-04T07:16:07.751283",
     "status": "completed"
    },
    "tags": []
   },
   "outputs": [],
   "source": [
    "import pandas as pd\n",
    "from sklearn.model_selection import train_test_split\n",
    "from sklearn.ensemble import RandomForestClassifier, GradientBoostingClassifier\n",
    "from sklearn.linear_model import LogisticRegression\n",
    "from sklearn.calibration import CalibratedClassifierCV\n",
    "from sklearn.impute import SimpleImputer\n",
    "from sklearn.metrics import brier_score_loss"
   ]
  },
  {
   "cell_type": "markdown",
   "id": "ae88f984",
   "metadata": {
    "papermill": {
     "duration": 0.002168,
     "end_time": "2025-07-04T07:16:09.323548",
     "exception": false,
     "start_time": "2025-07-04T07:16:09.321380",
     "status": "completed"
    },
    "tags": []
   },
   "source": [
    "Get Data\n"
   ]
  },
  {
   "cell_type": "code",
   "execution_count": 3,
   "id": "c183ce4f",
   "metadata": {
    "execution": {
     "iopub.execute_input": "2025-07-04T07:16:09.329016Z",
     "iopub.status.busy": "2025-07-04T07:16:09.328727Z",
     "iopub.status.idle": "2025-07-04T07:16:09.405448Z",
     "shell.execute_reply": "2025-07-04T07:16:09.404738Z"
    },
    "papermill": {
     "duration": 0.080783,
     "end_time": "2025-07-04T07:16:09.406633",
     "exception": false,
     "start_time": "2025-07-04T07:16:09.325850",
     "status": "completed"
    },
    "tags": []
   },
   "outputs": [
    {
     "data": {
      "text/html": [
       "<div>\n",
       "<style scoped>\n",
       "    .dataframe tbody tr th:only-of-type {\n",
       "        vertical-align: middle;\n",
       "    }\n",
       "\n",
       "    .dataframe tbody tr th {\n",
       "        vertical-align: top;\n",
       "    }\n",
       "\n",
       "    .dataframe thead th {\n",
       "        text-align: right;\n",
       "    }\n",
       "</style>\n",
       "<table border=\"1\" class=\"dataframe\">\n",
       "  <thead>\n",
       "    <tr style=\"text-align: right;\">\n",
       "      <th></th>\n",
       "      <th>PassengerId</th>\n",
       "      <th>HomePlanet</th>\n",
       "      <th>CryoSleep</th>\n",
       "      <th>Cabin</th>\n",
       "      <th>Destination</th>\n",
       "      <th>Age</th>\n",
       "      <th>VIP</th>\n",
       "      <th>RoomService</th>\n",
       "      <th>FoodCourt</th>\n",
       "      <th>ShoppingMall</th>\n",
       "      <th>Spa</th>\n",
       "      <th>VRDeck</th>\n",
       "      <th>Name</th>\n",
       "      <th>Transported</th>\n",
       "    </tr>\n",
       "  </thead>\n",
       "  <tbody>\n",
       "    <tr>\n",
       "      <th>0</th>\n",
       "      <td>0001_01</td>\n",
       "      <td>Europa</td>\n",
       "      <td>False</td>\n",
       "      <td>B/0/P</td>\n",
       "      <td>TRAPPIST-1e</td>\n",
       "      <td>39.0</td>\n",
       "      <td>False</td>\n",
       "      <td>0.0</td>\n",
       "      <td>0.0</td>\n",
       "      <td>0.0</td>\n",
       "      <td>0.0</td>\n",
       "      <td>0.0</td>\n",
       "      <td>Maham Ofracculy</td>\n",
       "      <td>0</td>\n",
       "    </tr>\n",
       "    <tr>\n",
       "      <th>1</th>\n",
       "      <td>0002_01</td>\n",
       "      <td>Earth</td>\n",
       "      <td>False</td>\n",
       "      <td>F/0/S</td>\n",
       "      <td>TRAPPIST-1e</td>\n",
       "      <td>24.0</td>\n",
       "      <td>False</td>\n",
       "      <td>109.0</td>\n",
       "      <td>9.0</td>\n",
       "      <td>25.0</td>\n",
       "      <td>549.0</td>\n",
       "      <td>44.0</td>\n",
       "      <td>Juanna Vines</td>\n",
       "      <td>1</td>\n",
       "    </tr>\n",
       "    <tr>\n",
       "      <th>2</th>\n",
       "      <td>0003_01</td>\n",
       "      <td>Europa</td>\n",
       "      <td>False</td>\n",
       "      <td>A/0/S</td>\n",
       "      <td>TRAPPIST-1e</td>\n",
       "      <td>58.0</td>\n",
       "      <td>True</td>\n",
       "      <td>43.0</td>\n",
       "      <td>3576.0</td>\n",
       "      <td>0.0</td>\n",
       "      <td>6715.0</td>\n",
       "      <td>49.0</td>\n",
       "      <td>Altark Susent</td>\n",
       "      <td>0</td>\n",
       "    </tr>\n",
       "    <tr>\n",
       "      <th>3</th>\n",
       "      <td>0003_02</td>\n",
       "      <td>Europa</td>\n",
       "      <td>False</td>\n",
       "      <td>A/0/S</td>\n",
       "      <td>TRAPPIST-1e</td>\n",
       "      <td>33.0</td>\n",
       "      <td>False</td>\n",
       "      <td>0.0</td>\n",
       "      <td>1283.0</td>\n",
       "      <td>371.0</td>\n",
       "      <td>3329.0</td>\n",
       "      <td>193.0</td>\n",
       "      <td>Solam Susent</td>\n",
       "      <td>0</td>\n",
       "    </tr>\n",
       "    <tr>\n",
       "      <th>4</th>\n",
       "      <td>0004_01</td>\n",
       "      <td>Earth</td>\n",
       "      <td>False</td>\n",
       "      <td>F/1/S</td>\n",
       "      <td>TRAPPIST-1e</td>\n",
       "      <td>16.0</td>\n",
       "      <td>False</td>\n",
       "      <td>303.0</td>\n",
       "      <td>70.0</td>\n",
       "      <td>151.0</td>\n",
       "      <td>565.0</td>\n",
       "      <td>2.0</td>\n",
       "      <td>Willy Santantines</td>\n",
       "      <td>1</td>\n",
       "    </tr>\n",
       "  </tbody>\n",
       "</table>\n",
       "</div>"
      ],
      "text/plain": [
       "  PassengerId HomePlanet CryoSleep  Cabin  Destination   Age    VIP  \\\n",
       "0     0001_01     Europa     False  B/0/P  TRAPPIST-1e  39.0  False   \n",
       "1     0002_01      Earth     False  F/0/S  TRAPPIST-1e  24.0  False   \n",
       "2     0003_01     Europa     False  A/0/S  TRAPPIST-1e  58.0   True   \n",
       "3     0003_02     Europa     False  A/0/S  TRAPPIST-1e  33.0  False   \n",
       "4     0004_01      Earth     False  F/1/S  TRAPPIST-1e  16.0  False   \n",
       "\n",
       "   RoomService  FoodCourt  ShoppingMall     Spa  VRDeck               Name  \\\n",
       "0          0.0        0.0           0.0     0.0     0.0    Maham Ofracculy   \n",
       "1        109.0        9.0          25.0   549.0    44.0       Juanna Vines   \n",
       "2         43.0     3576.0           0.0  6715.0    49.0      Altark Susent   \n",
       "3          0.0     1283.0         371.0  3329.0   193.0       Solam Susent   \n",
       "4        303.0       70.0         151.0   565.0     2.0  Willy Santantines   \n",
       "\n",
       "   Transported  \n",
       "0            0  \n",
       "1            1  \n",
       "2            0  \n",
       "3            0  \n",
       "4            1  "
      ]
     },
     "execution_count": 3,
     "metadata": {},
     "output_type": "execute_result"
    }
   ],
   "source": [
    "# Load the training data\n",
    "train_data = pd.read_csv('/kaggle/input/spaceship-titanic-in-all-probability/train.csv')\n",
    "\n",
    "# Feature selection\n",
    "features = ['CryoSleep', 'Age', 'VIP', 'RoomService', 'FoodCourt', 'ShoppingMall', 'Spa', 'VRDeck']\n",
    "\n",
    "# Split the data into features and target variable\n",
    "X = train_data[features]\n",
    "y = train_data['Transported']\n",
    "\n",
    "# Split the data into training and testing sets\n",
    "X_train, X_val, y_train, y_val = train_test_split(X, y, test_size=0.2, random_state=42)\n",
    "\n",
    "train_data.head()"
   ]
  },
  {
   "cell_type": "code",
   "execution_count": 4,
   "id": "e99c61d4",
   "metadata": {
    "execution": {
     "iopub.execute_input": "2025-07-04T07:16:09.412399Z",
     "iopub.status.busy": "2025-07-04T07:16:09.412183Z",
     "iopub.status.idle": "2025-07-04T07:16:09.431028Z",
     "shell.execute_reply": "2025-07-04T07:16:09.430307Z"
    },
    "papermill": {
     "duration": 0.022963,
     "end_time": "2025-07-04T07:16:09.432175",
     "exception": false,
     "start_time": "2025-07-04T07:16:09.409212",
     "status": "completed"
    },
    "tags": []
   },
   "outputs": [],
   "source": [
    "# Impute missing values\n",
    "imputer = SimpleImputer(strategy='mean')\n",
    "X_train_imputed = imputer.fit_transform(X_train)\n",
    "X_val_imputed = imputer.transform(X_val)\n",
    "\n",
    "\n",
    "# Initialize models\n",
    "models = {\n",
    "    'Logistic Regression': LogisticRegression(random_state=42),\n",
    "    'Random Forest': RandomForestClassifier(random_state=42),\n",
    "    'Gradient Boosting': GradientBoostingClassifier(random_state=42)\n",
    "}"
   ]
  },
  {
   "cell_type": "code",
   "execution_count": 5,
   "id": "88a39541",
   "metadata": {
    "execution": {
     "iopub.execute_input": "2025-07-04T07:16:09.437791Z",
     "iopub.status.busy": "2025-07-04T07:16:09.437596Z",
     "iopub.status.idle": "2025-07-04T07:16:11.092450Z",
     "shell.execute_reply": "2025-07-04T07:16:11.091875Z"
    },
    "papermill": {
     "duration": 1.659168,
     "end_time": "2025-07-04T07:16:11.093823",
     "exception": false,
     "start_time": "2025-07-04T07:16:09.434655",
     "status": "completed"
    },
    "tags": []
   },
   "outputs": [],
   "source": [
    "# Fit and calibrate models\n",
    "calibrated_models = {}\n",
    "\n",
    "for name, model in models.items():\n",
    "    # Fit the model\n",
    "    model.fit(X_train_imputed, y_train)\n",
    "\n",
    "   \n",
    "    calibrated_model = CalibratedClassifierCV(model, method='sigmoid', cv='prefit')\n",
    "    calibrated_model.fit(X_val_imputed, y_val)\n",
    "\n",
    "    calibrated_models[name] = calibrated_model"
   ]
  },
  {
   "cell_type": "code",
   "execution_count": 6,
   "id": "91190108",
   "metadata": {
    "execution": {
     "iopub.execute_input": "2025-07-04T07:16:11.099920Z",
     "iopub.status.busy": "2025-07-04T07:16:11.099716Z",
     "iopub.status.idle": "2025-07-04T07:16:11.123893Z",
     "shell.execute_reply": "2025-07-04T07:16:11.123395Z"
    },
    "papermill": {
     "duration": 0.028302,
     "end_time": "2025-07-04T07:16:11.125016",
     "exception": false,
     "start_time": "2025-07-04T07:16:11.096714",
     "status": "completed"
    },
    "tags": []
   },
   "outputs": [],
   "source": [
    "# Load the test data (replace 'test.csv' with the actual file path)\n",
    "test_data = pd.read_csv('/kaggle/input/spaceship-titanic-in-all-probability/test.csv')\n",
    "\n",
    "# Extract features from the test data\n",
    "X_test = test_data[features]"
   ]
  },
  {
   "cell_type": "code",
   "execution_count": 7,
   "id": "be70a168",
   "metadata": {
    "execution": {
     "iopub.execute_input": "2025-07-04T07:16:11.130836Z",
     "iopub.status.busy": "2025-07-04T07:16:11.130623Z",
     "iopub.status.idle": "2025-07-04T07:16:11.138165Z",
     "shell.execute_reply": "2025-07-04T07:16:11.137616Z"
    },
    "papermill": {
     "duration": 0.011659,
     "end_time": "2025-07-04T07:16:11.139268",
     "exception": false,
     "start_time": "2025-07-04T07:16:11.127609",
     "status": "completed"
    },
    "tags": []
   },
   "outputs": [],
   "source": [
    "# Impute missing values in the test set\n",
    "X_test_imputed = imputer.transform(X_test)"
   ]
  },
  {
   "cell_type": "code",
   "execution_count": 8,
   "id": "669a2923",
   "metadata": {
    "execution": {
     "iopub.execute_input": "2025-07-04T07:16:11.145285Z",
     "iopub.status.busy": "2025-07-04T07:16:11.145024Z",
     "iopub.status.idle": "2025-07-04T07:16:11.242017Z",
     "shell.execute_reply": "2025-07-04T07:16:11.241446Z"
    },
    "papermill": {
     "duration": 0.101495,
     "end_time": "2025-07-04T07:16:11.243353",
     "exception": false,
     "start_time": "2025-07-04T07:16:11.141858",
     "status": "completed"
    },
    "tags": []
   },
   "outputs": [],
   "source": [
    "# Make probability predictions on the test set for each model\n",
    "probabilities = {}\n",
    "\n",
    "for name, model in calibrated_models.items():\n",
    "    probabilities[name] = model.predict_proba(X_test_imputed)[:, 1]  # Probability of being transported"
   ]
  },
  {
   "cell_type": "code",
   "execution_count": 9,
   "id": "df20453a",
   "metadata": {
    "execution": {
     "iopub.execute_input": "2025-07-04T07:16:11.249233Z",
     "iopub.status.busy": "2025-07-04T07:16:11.248997Z",
     "iopub.status.idle": "2025-07-04T07:16:11.256737Z",
     "shell.execute_reply": "2025-07-04T07:16:11.256191Z"
    },
    "papermill": {
     "duration": 0.011883,
     "end_time": "2025-07-04T07:16:11.257857",
     "exception": false,
     "start_time": "2025-07-04T07:16:11.245974",
     "status": "completed"
    },
    "tags": []
   },
   "outputs": [
    {
     "data": {
      "text/html": [
       "<div>\n",
       "<style scoped>\n",
       "    .dataframe tbody tr th:only-of-type {\n",
       "        vertical-align: middle;\n",
       "    }\n",
       "\n",
       "    .dataframe tbody tr th {\n",
       "        vertical-align: top;\n",
       "    }\n",
       "\n",
       "    .dataframe thead th {\n",
       "        text-align: right;\n",
       "    }\n",
       "</style>\n",
       "<table border=\"1\" class=\"dataframe\">\n",
       "  <thead>\n",
       "    <tr style=\"text-align: right;\">\n",
       "      <th></th>\n",
       "      <th>Logistic Regression</th>\n",
       "      <th>Random Forest</th>\n",
       "      <th>Gradient Boosting</th>\n",
       "    </tr>\n",
       "  </thead>\n",
       "  <tbody>\n",
       "    <tr>\n",
       "      <th>0</th>\n",
       "      <td>0.799841</td>\n",
       "      <td>0.795762</td>\n",
       "      <td>0.804940</td>\n",
       "    </tr>\n",
       "    <tr>\n",
       "      <th>1</th>\n",
       "      <td>0.013133</td>\n",
       "      <td>0.111904</td>\n",
       "      <td>0.072591</td>\n",
       "    </tr>\n",
       "    <tr>\n",
       "      <th>2</th>\n",
       "      <td>0.799114</td>\n",
       "      <td>0.710635</td>\n",
       "      <td>0.804940</td>\n",
       "    </tr>\n",
       "    <tr>\n",
       "      <th>3</th>\n",
       "      <td>0.968035</td>\n",
       "      <td>0.849473</td>\n",
       "      <td>0.942760</td>\n",
       "    </tr>\n",
       "    <tr>\n",
       "      <th>4</th>\n",
       "      <td>0.545402</td>\n",
       "      <td>0.382153</td>\n",
       "      <td>0.570839</td>\n",
       "    </tr>\n",
       "  </tbody>\n",
       "</table>\n",
       "</div>"
      ],
      "text/plain": [
       "   Logistic Regression  Random Forest  Gradient Boosting\n",
       "0             0.799841       0.795762           0.804940\n",
       "1             0.013133       0.111904           0.072591\n",
       "2             0.799114       0.710635           0.804940\n",
       "3             0.968035       0.849473           0.942760\n",
       "4             0.545402       0.382153           0.570839"
      ]
     },
     "execution_count": 9,
     "metadata": {},
     "output_type": "execute_result"
    }
   ],
   "source": [
    "pd.DataFrame(probabilities).head()"
   ]
  },
  {
   "cell_type": "code",
   "execution_count": 10,
   "id": "06bc927e",
   "metadata": {
    "execution": {
     "iopub.execute_input": "2025-07-04T07:16:11.263644Z",
     "iopub.status.busy": "2025-07-04T07:16:11.263447Z",
     "iopub.status.idle": "2025-07-04T07:16:11.325902Z",
     "shell.execute_reply": "2025-07-04T07:16:11.325019Z"
    },
    "papermill": {
     "duration": 0.066616,
     "end_time": "2025-07-04T07:16:11.327027",
     "exception": false,
     "start_time": "2025-07-04T07:16:11.260411",
     "status": "completed"
    },
    "tags": []
   },
   "outputs": [
    {
     "name": "stdout",
     "output_type": "stream",
     "text": [
      "                     Brier Score   ROC AUC  Accuracy  Precision    Recall  \\\n",
      "Logistic Regression     0.161427  0.835002  0.764807   0.756284  0.788155   \n",
      "Random Forest           0.169502  0.815233  0.767683   0.759868  0.789294   \n",
      "Gradient Boosting       0.157636  0.839648  0.783209   0.759585  0.834852   \n",
      "\n",
      "                     F1 Score  \n",
      "Logistic Regression  0.771891  \n",
      "Random Forest        0.774302  \n",
      "Gradient Boosting    0.795442  \n"
     ]
    }
   ],
   "source": [
    "import pandas as pd\n",
    "from sklearn.metrics import (\n",
    "    accuracy_score,\n",
    "    precision_score,\n",
    "    recall_score,\n",
    "    f1_score,\n",
    "    roc_auc_score,\n",
    "    brier_score_loss\n",
    ")\n",
    "\n",
    "# Dictionary to store validation scores\n",
    "validation_scores = {}\n",
    "\n",
    "for name, model in calibrated_models.items():\n",
    "    # Predict probabilities on validation set\n",
    "    val_probabilities = model.predict_proba(X_val_imputed)[:, 1]\n",
    "    \n",
    "    # Convert probabilities to binary predictions (threshold = 0.5)\n",
    "    val_predictions = (val_probabilities > 0.5).astype(int)\n",
    "\n",
    "    # Calculate metrics\n",
    "    brier_score = brier_score_loss(y_val, val_probabilities)\n",
    "    roc_auc = roc_auc_score(y_val, val_probabilities)\n",
    "    accuracy = accuracy_score(y_val, val_predictions)\n",
    "    precision = precision_score(y_val, val_predictions)\n",
    "    recall = recall_score(y_val, val_predictions)\n",
    "    f1 = f1_score(y_val, val_predictions)\n",
    "\n",
    "    validation_scores[name] = {\n",
    "        'Brier Score': brier_score,\n",
    "        'ROC AUC': roc_auc,\n",
    "        'Accuracy': accuracy,\n",
    "        'Precision': precision,\n",
    "        'Recall': recall,\n",
    "        'F1 Score': f1\n",
    "    }\n",
    "\n",
    "# Convert to DataFrame for easy viewing\n",
    "scores_df = pd.DataFrame(validation_scores).T  # Transpose to get models as rows\n",
    "print(scores_df)\n"
   ]
  },
  {
   "cell_type": "code",
   "execution_count": 11,
   "id": "5f8cc4eb",
   "metadata": {
    "execution": {
     "iopub.execute_input": "2025-07-04T07:16:11.332986Z",
     "iopub.status.busy": "2025-07-04T07:16:11.332783Z",
     "iopub.status.idle": "2025-07-04T07:16:11.365569Z",
     "shell.execute_reply": "2025-07-04T07:16:11.364913Z"
    },
    "papermill": {
     "duration": 0.037065,
     "end_time": "2025-07-04T07:16:11.366729",
     "exception": false,
     "start_time": "2025-07-04T07:16:11.329664",
     "status": "completed"
    },
    "tags": []
   },
   "outputs": [],
   "source": [
    "# Create a submission file for each model\n",
    "for name, probs in probabilities.items():\n",
    "    submission = pd.DataFrame({'PassengerId': test_data['PassengerId'], 'Transported': probs})\n",
    "    submission.to_csv(f'submission_{name.replace(\" \", \"_\")}.csv', index=False)"
   ]
  },
  {
   "cell_type": "code",
   "execution_count": 12,
   "id": "682c0265",
   "metadata": {
    "execution": {
     "iopub.execute_input": "2025-07-04T07:16:11.372659Z",
     "iopub.status.busy": "2025-07-04T07:16:11.372444Z",
     "iopub.status.idle": "2025-07-04T07:16:11.379649Z",
     "shell.execute_reply": "2025-07-04T07:16:11.379089Z"
    },
    "papermill": {
     "duration": 0.011348,
     "end_time": "2025-07-04T07:16:11.380733",
     "exception": false,
     "start_time": "2025-07-04T07:16:11.369385",
     "status": "completed"
    },
    "tags": []
   },
   "outputs": [
    {
     "data": {
      "text/html": [
       "<div>\n",
       "<style scoped>\n",
       "    .dataframe tbody tr th:only-of-type {\n",
       "        vertical-align: middle;\n",
       "    }\n",
       "\n",
       "    .dataframe tbody tr th {\n",
       "        vertical-align: top;\n",
       "    }\n",
       "\n",
       "    .dataframe thead th {\n",
       "        text-align: right;\n",
       "    }\n",
       "</style>\n",
       "<table border=\"1\" class=\"dataframe\">\n",
       "  <thead>\n",
       "    <tr style=\"text-align: right;\">\n",
       "      <th></th>\n",
       "      <th>PassengerId</th>\n",
       "      <th>Transported</th>\n",
       "    </tr>\n",
       "  </thead>\n",
       "  <tbody>\n",
       "    <tr>\n",
       "      <th>0</th>\n",
       "      <td>0013_01</td>\n",
       "      <td>0.804940</td>\n",
       "    </tr>\n",
       "    <tr>\n",
       "      <th>1</th>\n",
       "      <td>0018_01</td>\n",
       "      <td>0.072591</td>\n",
       "    </tr>\n",
       "    <tr>\n",
       "      <th>2</th>\n",
       "      <td>0019_01</td>\n",
       "      <td>0.804940</td>\n",
       "    </tr>\n",
       "    <tr>\n",
       "      <th>3</th>\n",
       "      <td>0021_01</td>\n",
       "      <td>0.942760</td>\n",
       "    </tr>\n",
       "    <tr>\n",
       "      <th>4</th>\n",
       "      <td>0023_01</td>\n",
       "      <td>0.570839</td>\n",
       "    </tr>\n",
       "    <tr>\n",
       "      <th>...</th>\n",
       "      <td>...</td>\n",
       "      <td>...</td>\n",
       "    </tr>\n",
       "    <tr>\n",
       "      <th>4272</th>\n",
       "      <td>9266_02</td>\n",
       "      <td>0.819696</td>\n",
       "    </tr>\n",
       "    <tr>\n",
       "      <th>4273</th>\n",
       "      <td>9269_01</td>\n",
       "      <td>0.496049</td>\n",
       "    </tr>\n",
       "    <tr>\n",
       "      <th>4274</th>\n",
       "      <td>9271_01</td>\n",
       "      <td>0.804940</td>\n",
       "    </tr>\n",
       "    <tr>\n",
       "      <th>4275</th>\n",
       "      <td>9273_01</td>\n",
       "      <td>0.776319</td>\n",
       "    </tr>\n",
       "    <tr>\n",
       "      <th>4276</th>\n",
       "      <td>9277_01</td>\n",
       "      <td>0.843808</td>\n",
       "    </tr>\n",
       "  </tbody>\n",
       "</table>\n",
       "<p>4277 rows × 2 columns</p>\n",
       "</div>"
      ],
      "text/plain": [
       "     PassengerId  Transported\n",
       "0        0013_01     0.804940\n",
       "1        0018_01     0.072591\n",
       "2        0019_01     0.804940\n",
       "3        0021_01     0.942760\n",
       "4        0023_01     0.570839\n",
       "...          ...          ...\n",
       "4272     9266_02     0.819696\n",
       "4273     9269_01     0.496049\n",
       "4274     9271_01     0.804940\n",
       "4275     9273_01     0.776319\n",
       "4276     9277_01     0.843808\n",
       "\n",
       "[4277 rows x 2 columns]"
      ]
     },
     "execution_count": 12,
     "metadata": {},
     "output_type": "execute_result"
    }
   ],
   "source": [
    "submission"
   ]
  }
 ],
 "metadata": {
  "kaggle": {
   "accelerator": "gpu",
   "dataSources": [
    {
     "databundleVersionId": 7303057,
     "sourceId": 66017,
     "sourceType": "competition"
    }
   ],
   "dockerImageVersionId": 31041,
   "isGpuEnabled": true,
   "isInternetEnabled": true,
   "language": "python",
   "sourceType": "notebook"
  },
  "kernelspec": {
   "display_name": "Python 3",
   "language": "python",
   "name": "python3"
  },
  "language_info": {
   "codemirror_mode": {
    "name": "ipython",
    "version": 3
   },
   "file_extension": ".py",
   "mimetype": "text/x-python",
   "name": "python",
   "nbconvert_exporter": "python",
   "pygments_lexer": "ipython3",
   "version": "3.11.11"
  },
  "papermill": {
   "default_parameters": {},
   "duration": 9.605226,
   "end_time": "2025-07-04T07:16:11.800587",
   "environment_variables": {},
   "exception": null,
   "input_path": "__notebook__.ipynb",
   "output_path": "__notebook__.ipynb",
   "parameters": {},
   "start_time": "2025-07-04T07:16:02.195361",
   "version": "2.6.0"
  }
 },
 "nbformat": 4,
 "nbformat_minor": 5
}
